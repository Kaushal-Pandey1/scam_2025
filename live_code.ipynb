{
 "cells": [
  {
   "cell_type": "code",
   "execution_count": null,
   "metadata": {},
   "outputs": [],
   "source": [
    "def place_order(symbol,quantity,action):\n",
    "    p = breeze.place_order(stock_code=symbol,\n",
    "                   exchange_code=\"NSE\",\n",
    "                   product=\"cash\",\n",
    "                   action=action,\n",
    "                   order_type=\"market\",  # Change 'limit' to 'market'\n",
    "                   stoploss=\"\",  # No stop loss for market order\n",
    "                   quantity=quantity,  # Specify the quantity\n",
    "                   price=\"\",  # No need to specify the price for a market order\n",
    "                   validity=\"day\"  # Order valid for the day\n",
    "                  )\n",
    "    return p\n"
   ]
  }
 ],
 "metadata": {
  "language_info": {
   "name": "python"
  }
 },
 "nbformat": 4,
 "nbformat_minor": 2
}
